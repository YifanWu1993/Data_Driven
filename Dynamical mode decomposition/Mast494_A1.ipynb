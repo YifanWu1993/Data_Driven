{
 "cells": [
  {
   "cell_type": "code",
   "execution_count": 2,
   "id": "705107d4",
   "metadata": {},
   "outputs": [
    {
     "name": "stdout",
     "output_type": "stream",
     "text": [
      "Collecting opencv-python\n",
      "  Downloading opencv_python-4.7.0.68-cp37-abi3-win_amd64.whl (38.2 MB)\n",
      "     ---------------------------------------- 38.2/38.2 MB 5.4 MB/s eta 0:00:00\n",
      "Requirement already satisfied: numpy>=1.17.3 in c:\\users\\yifan\\anaconda3\\lib\\site-packages (from opencv-python) (1.21.5)\n",
      "Installing collected packages: opencv-python\n",
      "Successfully installed opencv-python-4.7.0.68\n"
     ]
    }
   ],
   "source": [
    "!pip install opencv-python"
   ]
  },
  {
   "cell_type": "code",
   "execution_count": 259,
   "id": "24d3ee14",
   "metadata": {},
   "outputs": [],
   "source": [
    "import numpy as np\n",
    "import matplotlib.pyplot as plt\n",
    "import math\n",
    "from matplotlib.image import imread\n",
    "import pandas as pd\n",
    "from pathlib import Path\n",
    "import cv2\n",
    "from numpy import array\n",
    "import sympy as smp"
   ]
  },
  {
   "cell_type": "code",
   "execution_count": 275,
   "id": "d24b2746",
   "metadata": {},
   "outputs": [
    {
     "data": {
      "text/plain": [
       "(379, 540, 960, 3)"
      ]
     },
     "execution_count": 275,
     "metadata": {},
     "output_type": "execute_result"
    }
   ],
   "source": [
    "frames = []\n",
    "\n",
    "path = \"E:\\Math_494\\Assignments\\monte_carlo_low.mp4\"\n",
    "cap = cv2.VideoCapture(path)\n",
    "ret = True\n",
    "while ret:\n",
    "    ret, img = cap.read() # read one frame from the 'capture' object; img is (H, W)\n",
    "    if ret:\n",
    "        frames.append(img)\n",
    "video = np.stack(frames, axis=0) # dimensions (T, H, W)\n",
    "video.shape"
   ]
  },
  {
   "cell_type": "code",
   "execution_count": 276,
   "id": "f1e7acca",
   "metadata": {},
   "outputs": [
    {
     "data": {
      "text/plain": [
       "(379, 540, 960)"
      ]
     },
     "execution_count": 276,
     "metadata": {},
     "output_type": "execute_result"
    }
   ],
   "source": [
    "## covert color into gray\n",
    "gray=np.mean(video,-1) \n",
    "gray.shape"
   ]
  },
  {
   "cell_type": "code",
   "execution_count": 278,
   "id": "b2eb17cf",
   "metadata": {},
   "outputs": [
    {
     "data": {
      "text/plain": [
       "(518400, 379)"
      ]
     },
     "execution_count": 278,
     "metadata": {},
     "output_type": "execute_result"
    }
   ],
   "source": [
    "## transpose the matrix in terms of 379 Columns and 518400 rows\n",
    "rvideo = (np.reshape(gray,(379,518400))).transpose() \n",
    "rvideo.shape"
   ]
  },
  {
   "cell_type": "code",
   "execution_count": 279,
   "id": "9014f7a0",
   "metadata": {},
   "outputs": [
    {
     "data": {
      "text/plain": [
       "(518400, 378)"
      ]
     },
     "execution_count": 279,
     "metadata": {},
     "output_type": "execute_result"
    }
   ],
   "source": [
    "## Construct initial Matrix\n",
    "x=rvideo[:,:378] ## x (n-1) Matrix\n",
    "Y=rvideo[:,1:379]  ## x Matrix\n",
    "x.shape\n",
    "Y.shape"
   ]
  },
  {
   "cell_type": "code",
   "execution_count": 280,
   "id": "5adae04c",
   "metadata": {},
   "outputs": [
    {
     "data": {
      "text/plain": [
       "(378,)"
      ]
     },
     "execution_count": 280,
     "metadata": {},
     "output_type": "execute_result"
    }
   ],
   "source": [
    "## Use SVD Convert X to X'\n",
    "U,S,VT = np.linalg.svd(x,full_matrices=False)\n",
    "S.shape"
   ]
  },
  {
   "cell_type": "code",
   "execution_count": 281,
   "id": "37a02aa1",
   "metadata": {},
   "outputs": [],
   "source": [
    "S = np.diag(S)"
   ]
  },
  {
   "cell_type": "code",
   "execution_count": 95,
   "id": "5982313a",
   "metadata": {},
   "outputs": [
    {
     "data": {
      "text/plain": [
       "0.9999978605903279"
      ]
     },
     "execution_count": 95,
     "metadata": {},
     "output_type": "execute_result"
    }
   ],
   "source": [
    "np.trace((S[0:175,0:175])**2)/np.trace(S**2)"
   ]
  },
  {
   "cell_type": "code",
   "execution_count": 96,
   "id": "67bbff9e",
   "metadata": {},
   "outputs": [
    {
     "data": {
      "text/plain": [
       "0.991905003502707"
      ]
     },
     "execution_count": 96,
     "metadata": {},
     "output_type": "execute_result"
    }
   ],
   "source": [
    "## Find svd truncation \n",
    "sum=np.trace(S)\n",
    "np.trace(S[0:175,0:175]/sum)"
   ]
  },
  {
   "cell_type": "code",
   "execution_count": 9,
   "id": "a542b61e",
   "metadata": {
    "collapsed": true
   },
   "outputs": [
    {
     "data": {
      "text/plain": [
       "Text(0.5, 1.0, 'sigular value compoent')"
      ]
     },
     "execution_count": 9,
     "metadata": {},
     "output_type": "execute_result"
    },
    {
     "data": {
      "image/png": "[encoded data removed]",
      "text/plain": [
       "<Figure size 640x480 with 1 Axes>"
      ]
     },
     "metadata": {},
     "output_type": "display_data"
    }
   ],
   "source": [
    "## plot sigular values ot tuncate\n",
    "plt.plot(S[0:175,0:175]/sum,'r--')\n",
    "plt.show\n",
    "plt.title('sigular value compoent')"
   ]
  },
  {
   "cell_type": "code",
   "execution_count": 282,
   "id": "fda31a71",
   "metadata": {},
   "outputs": [],
   "source": [
    "r = 170 ##truncate at 360\n",
    "U=U[:,:r]\n",
    "S=S[:r,:r]\n",
    "VT=VT[:r,:]"
   ]
  },
  {
   "cell_type": "code",
   "execution_count": 283,
   "id": "aa61549c",
   "metadata": {},
   "outputs": [
    {
     "data": {
      "text/plain": [
       "(170, 170)"
      ]
     },
     "execution_count": 283,
     "metadata": {},
     "output_type": "execute_result"
    }
   ],
   "source": [
    "## Transpose U to U* \n",
    "U = np.matrix(U)\n",
    "S=np.matrix(S)\n",
    "VT=np.matrix(VT)\n",
    "UT = U.getH()\n",
    "ST=S.getH()\n",
    "V=VT.getH()\n",
    "S.shape"
   ]
  },
  {
   "cell_type": "code",
   "execution_count": 284,
   "id": "797f08f8",
   "metadata": {},
   "outputs": [],
   "source": [
    "A=UT.dot(Y).dot(V).dot(ST)"
   ]
  },
  {
   "cell_type": "code",
   "execution_count": 100,
   "id": "ca63a285",
   "metadata": {},
   "outputs": [
    {
     "data": {
      "text/plain": [
       "(175, 175)"
      ]
     },
     "execution_count": 100,
     "metadata": {},
     "output_type": "execute_result"
    }
   ],
   "source": [
    "A"
   ]
  },
  {
   "cell_type": "code",
   "execution_count": 285,
   "id": "c5655dad",
   "metadata": {},
   "outputs": [
    {
     "name": "stderr",
     "output_type": "stream",
     "text": [
      "C:\\Users\\yifan\\anaconda3\\lib\\site-packages\\matplotlib\\cbook\\__init__.py:1298: ComplexWarning: Casting complex values to real discards the imaginary part\n",
      "  return np.asarray(x, float)\n"
     ]
    },
    {
     "data": {
      "text/plain": [
       "<function matplotlib.pyplot.show(close=None, block=None)>"
      ]
     },
     "execution_count": 285,
     "metadata": {},
     "output_type": "execute_result"
    },
    {
     "data": {
      "image/png": "[encoded data removed]",
      "text/plain": [
       "<Figure size 640x480 with 1 Axes>"
      ]
     },
     "metadata": {},
     "output_type": "display_data"
    }
   ],
   "source": [
    "## eigen value and eigen vector of A tidle\n",
    "eva,evc=np.linalg.eig(A)\n",
    "plt.plot(eva,\"ro\")\n",
    "plt.show"
   ]
  },
  {
   "cell_type": "code",
   "execution_count": 182,
   "id": "0b06f5ee",
   "metadata": {},
   "outputs": [],
   "source": [
    "mu = np.diag(eva)\n",
    "mu1=np.diag(np.real(eva))\n",
    "mu2=np.diag(np.imag(eva))"
   ]
  },
  {
   "cell_type": "code",
   "execution_count": 203,
   "id": "9efbddc6",
   "metadata": {},
   "outputs": [
    {
     "name": "stderr",
     "output_type": "stream",
     "text": [
      "C:\\Users\\yifan\\AppData\\Local\\Temp\\ipykernel_23516\\2556060490.py:2: RuntimeWarning: divide by zero encountered in log\n",
      "  omega = np.log(mu)/2\n",
      "C:\\Users\\yifan\\AppData\\Local\\Temp\\ipykernel_23516\\2556060490.py:2: RuntimeWarning: invalid value encountered in true_divide\n",
      "  omega = np.log(mu)/2\n",
      "C:\\Users\\yifan\\AppData\\Local\\Temp\\ipykernel_23516\\2556060490.py:3: RuntimeWarning: divide by zero encountered in log\n",
      "  omega2 = np.abs(np.log(mu)/2)\n",
      "C:\\Users\\yifan\\AppData\\Local\\Temp\\ipykernel_23516\\2556060490.py:3: RuntimeWarning: invalid value encountered in true_divide\n",
      "  omega2 = np.abs(np.log(mu)/2)\n"
     ]
    }
   ],
   "source": [
    "dt = \n",
    "omega = np.log(mu)/2\n",
    "omega2 = np.abs(np.log(mu)/2)\n",
    "# plt.plot(omega2,'ro')\n",
    "# plt.show()"
   ]
  },
  {
   "cell_type": "code",
   "execution_count": 187,
   "id": "0e8e2a3f",
   "metadata": {},
   "outputs": [],
   "source": [
    "e=np.exp(omega)"
   ]
  },
  {
   "cell_type": "code",
   "execution_count": 127,
   "id": "7e1c540d",
   "metadata": {},
   "outputs": [
    {
     "data": {
      "text/plain": [
       "(518400, 175)"
      ]
     },
     "execution_count": 127,
     "metadata": {},
     "output_type": "execute_result"
    }
   ],
   "source": [
    "phi=U.dot(evc)\n",
    "phi.shape"
   ]
  },
  {
   "cell_type": "code",
   "execution_count": 43,
   "id": "568bf3b8",
   "metadata": {
    "collapsed": true
   },
   "outputs": [
    {
     "data": {
      "image/png": "[encoded data removed]",
      "text/plain": [
       "<Figure size 640x480 with 1 Axes>"
      ]
     },
     "metadata": {},
     "output_type": "display_data"
    }
   ],
   "source": [
    "plt.plot(np.real(phi),'r--')\n",
    "plt.title('U_Matrix_mode')\n",
    "plt.show()"
   ]
  },
  {
   "cell_type": "code",
   "execution_count": 129,
   "id": "aa74e95f",
   "metadata": {
    "collapsed": true
   },
   "outputs": [
    {
     "data": {
      "text/plain": [
       "matrix([[-9.74306392e+04+6.63139981e-15j],\n",
       "        [ 8.85831364e+03-1.32196868e-11j],\n",
       "        [ 7.74203304e+03+1.43994407e-11j],\n",
       "        [ 1.85141279e+02-1.52599089e-11j],\n",
       "        [ 5.45006374e+03+8.03831534e-12j],\n",
       "        [-5.55965799e+02+4.33364754e-12j],\n",
       "        [ 1.50845805e+03+1.62959187e+04j],\n",
       "        [ 1.50845805e+03-1.62959187e+04j],\n",
       "        [ 3.57564653e+03-6.60903085e-11j],\n",
       "        [-1.29689425e+03-7.16504516e-11j],\n",
       "        [-4.68437697e+02+7.23550888e+02j],\n",
       "        [-4.68437697e+02-7.23550888e+02j],\n",
       "        [-2.72583614e+03+1.08704900e-10j],\n",
       "        [ 8.23197481e+03-1.84514150e-10j],\n",
       "        [ 3.72317710e+02-4.69733347e+04j],\n",
       "        [ 3.72317710e+02+4.69733347e+04j],\n",
       "        [-5.66948261e+02-1.03310943e+02j],\n",
       "        [-5.66948261e+02+1.03310943e+02j],\n",
       "        [-2.00713158e+03+2.09009897e+02j],\n",
       "        [-2.00713158e+03-2.09009897e+02j],\n",
       "        [-2.69202377e+04+1.11028645e-11j],\n",
       "        [ 2.46431685e+04-3.23361219e-11j],\n",
       "        [-3.27940605e+02+5.62343670e+02j],\n",
       "        [-3.27940605e+02-5.62343670e+02j],\n",
       "        [ 1.58832930e+03-1.23170117e-11j],\n",
       "        [-7.52212136e+02-3.39718677e+03j],\n",
       "        [-7.52212136e+02+3.39718677e+03j],\n",
       "        [ 1.40423893e+03-3.83918771e+03j],\n",
       "        [ 1.40423893e+03+3.83918771e+03j],\n",
       "        [-1.12257719e+03+1.57762823e+03j],\n",
       "        [-1.12257719e+03-1.57762823e+03j],\n",
       "        [ 7.44237910e+02+7.93172162e+02j],\n",
       "        [ 7.44237910e+02-7.93172162e+02j],\n",
       "        [-4.72191646e+03-4.57492221e+03j],\n",
       "        [-4.72191646e+03+4.57492221e+03j],\n",
       "        [-1.98945196e+03-6.41863424e+03j],\n",
       "        [-1.98945196e+03+6.41863424e+03j],\n",
       "        [ 1.79250736e+03-2.74884069e+02j],\n",
       "        [ 1.79250736e+03+2.74884069e+02j],\n",
       "        [ 1.86236715e+03+2.22863997e+02j],\n",
       "        [ 1.86236715e+03-2.22863997e+02j],\n",
       "        [-2.39378835e+02-2.03573386e+03j],\n",
       "        [-2.39378835e+02+2.03573386e+03j],\n",
       "        [-8.73628385e+02+7.58793648e+02j],\n",
       "        [-8.73628385e+02-7.58793648e+02j],\n",
       "        [ 1.21158116e+03-4.53734011e+03j],\n",
       "        [ 1.21158116e+03+4.53734011e+03j],\n",
       "        [ 1.21528319e+03+5.07173353e+03j],\n",
       "        [ 1.21528319e+03-5.07173353e+03j],\n",
       "        [ 6.24920181e+01+1.24809160e+03j],\n",
       "        [ 6.24920181e+01-1.24809160e+03j],\n",
       "        [-1.12361405e+03-2.21268246e+03j],\n",
       "        [-1.12361405e+03+2.21268246e+03j],\n",
       "        [-1.88428212e+02+1.43445423e+03j],\n",
       "        [-1.88428212e+02-1.43445423e+03j],\n",
       "        [ 3.28194574e+03-1.20652577e+03j],\n",
       "        [ 3.28194574e+03+1.20652577e+03j],\n",
       "        [ 8.82368674e+03+2.39957454e-11j],\n",
       "        [ 2.00245295e+02+4.09356006e+02j],\n",
       "        [ 2.00245295e+02-4.09356006e+02j],\n",
       "        [ 1.63278358e+02+1.36117481e+03j],\n",
       "        [ 1.63278358e+02-1.36117481e+03j],\n",
       "        [-1.02890126e+04-1.03065135e-10j],\n",
       "        [-2.73182364e+03-2.92111308e+02j],\n",
       "        [-2.73182364e+03+2.92111308e+02j],\n",
       "        [ 1.84578295e+03-1.04531822e+04j],\n",
       "        [ 1.84578295e+03+1.04531822e+04j],\n",
       "        [-8.86376525e+03-2.01550500e+04j],\n",
       "        [-8.86376525e+03+2.01550500e+04j],\n",
       "        [-4.01065300e+02-2.83688709e+02j],\n",
       "        [-4.01065300e+02+2.83688709e+02j],\n",
       "        [ 6.52259736e+02+9.99255350e+03j],\n",
       "        [ 6.52259736e+02-9.99255350e+03j],\n",
       "        [-2.59756855e+02-3.57279345e+03j],\n",
       "        [-2.59756855e+02+3.57279345e+03j],\n",
       "        [ 1.08094930e+03-8.25906038e+02j],\n",
       "        [ 1.08094930e+03+8.25906038e+02j],\n",
       "        [ 4.92106533e+02+1.86236654e+03j],\n",
       "        [ 4.92106533e+02-1.86236654e+03j],\n",
       "        [ 2.64884129e+02-2.58863259e+01j],\n",
       "        [ 2.64884129e+02+2.58863259e+01j],\n",
       "        [-1.27224728e+03+1.00768521e-11j],\n",
       "        [ 4.75632066e+03-1.06702046e+04j],\n",
       "        [ 4.75632066e+03+1.06702046e+04j],\n",
       "        [ 1.54411448e+03+2.52374007e+02j],\n",
       "        [ 1.54411448e+03-2.52374007e+02j],\n",
       "        [-1.66584144e+03+2.37949427e+03j],\n",
       "        [-1.66584144e+03-2.37949427e+03j],\n",
       "        [ 3.02292282e+03+6.63581123e+03j],\n",
       "        [ 3.02292282e+03-6.63581123e+03j],\n",
       "        [-4.60899815e+03+3.60261596e+03j],\n",
       "        [-4.60899815e+03-3.60261596e+03j],\n",
       "        [-1.62667095e+02-2.77740704e+03j],\n",
       "        [-1.62667095e+02+2.77740704e+03j],\n",
       "        [ 5.37325954e+03-1.80342325e+03j],\n",
       "        [ 5.37325954e+03+1.80342325e+03j],\n",
       "        [-1.04899592e+04-5.44926950e+03j],\n",
       "        [-1.04899592e+04+5.44926950e+03j],\n",
       "        [ 1.89915123e+04-3.68470477e+03j],\n",
       "        [ 1.89915123e+04+3.68470477e+03j],\n",
       "        [ 6.70980252e+04+4.36597301e-11j],\n",
       "        [-6.87296752e+03+6.11978330e+03j],\n",
       "        [-6.87296752e+03-6.11978330e+03j],\n",
       "        [-2.34295908e+03+7.09248972e+02j],\n",
       "        [-2.34295908e+03-7.09248972e+02j],\n",
       "        [-1.15413574e+04+1.71220762e+03j],\n",
       "        [-1.15413574e+04-1.71220762e+03j],\n",
       "        [-1.65386381e+03-1.12726089e+03j],\n",
       "        [-1.65386381e+03+1.12726089e+03j],\n",
       "        [ 2.05474883e+03+8.52106352e+03j],\n",
       "        [ 2.05474883e+03-8.52106352e+03j],\n",
       "        [ 1.14371038e+03-3.60010789e+02j],\n",
       "        [ 1.14371038e+03+3.60010789e+02j],\n",
       "        [-7.18301801e+04+1.14676643e-13j],\n",
       "        [ 2.53892762e+03-6.15028768e+01j],\n",
       "        [ 2.53892762e+03+6.15028768e+01j],\n",
       "        [-1.08381757e+02+1.66806105e+03j],\n",
       "        [-1.08381757e+02-1.66806105e+03j],\n",
       "        [ 4.07523504e+03+1.21723574e+04j],\n",
       "        [ 4.07523504e+03-1.21723574e+04j],\n",
       "        [ 7.18845387e+03+6.99439208e+03j],\n",
       "        [ 7.18845387e+03-6.99439208e+03j],\n",
       "        [ 4.26521178e+03+6.34546129e+02j],\n",
       "        [ 4.26521178e+03-6.34546129e+02j],\n",
       "        [-6.23363959e+01+5.74166075e+02j],\n",
       "        [-6.23363959e+01-5.74166075e+02j],\n",
       "        [-1.13448182e+03-1.04446308e+03j],\n",
       "        [-1.13448182e+03+1.04446308e+03j],\n",
       "        [ 3.03030900e+03-1.02493969e+04j],\n",
       "        [ 3.03030900e+03+1.02493969e+04j],\n",
       "        [-3.42236483e+03-1.19554147e+04j],\n",
       "        [-3.42236483e+03+1.19554147e+04j],\n",
       "        [ 4.00770196e+03-5.34993945e+03j],\n",
       "        [ 4.00770196e+03+5.34993945e+03j],\n",
       "        [ 5.96438035e+03-2.37326585e+03j],\n",
       "        [ 5.96438035e+03+2.37326585e+03j],\n",
       "        [-1.32278649e+03-1.99630465e+03j],\n",
       "        [-1.32278649e+03+1.99630465e+03j],\n",
       "        [-1.47401395e+03-1.05863276e+04j],\n",
       "        [-1.47401395e+03+1.05863276e+04j],\n",
       "        [-5.81072978e+02-1.51311835e+02j],\n",
       "        [-5.81072978e+02+1.51311835e+02j],\n",
       "        [ 8.49753363e+03+9.68447433e-11j],\n",
       "        [ 4.75967514e+03-9.01405577e+03j],\n",
       "        [ 4.75967514e+03+9.01405577e+03j],\n",
       "        [-1.22482006e+03-8.26795597e+02j],\n",
       "        [-1.22482006e+03+8.26795597e+02j],\n",
       "        [ 3.40388075e+03+2.02559621e+04j],\n",
       "        [ 3.40388075e+03-2.02559621e+04j],\n",
       "        [ 2.17796674e+04+3.87396039e-10j],\n",
       "        [ 4.97122819e+02-1.57210333e+03j],\n",
       "        [ 4.97122819e+02+1.57210333e+03j],\n",
       "        [ 5.22527335e+02-2.14410972e+03j],\n",
       "        [ 5.22527335e+02+2.14410972e+03j],\n",
       "        [ 3.20920084e+03+5.74791682e-11j],\n",
       "        [-4.72085074e+03-3.94817811e-10j],\n",
       "        [ 3.40140232e+03+4.25069833e-10j],\n",
       "        [-5.44414909e+02+3.02999217e-11j],\n",
       "        [ 2.88564934e+03+2.67766634e+03j],\n",
       "        [ 2.88564934e+03-2.67766634e+03j],\n",
       "        [ 8.31092970e+03-3.15229151e+03j],\n",
       "        [ 8.31092970e+03+3.15229151e+03j],\n",
       "        [ 2.58901378e+04+1.65669264e-10j],\n",
       "        [-2.91021169e+04+1.78308754e+04j],\n",
       "        [-2.91021169e+04-1.78308754e+04j],\n",
       "        [ 1.51846919e+04-2.81025831e+04j],\n",
       "        [ 1.51846919e+04+2.81025831e+04j],\n",
       "        [-1.73983294e+04-1.09061408e-10j],\n",
       "        [-6.21345491e+03+2.98612487e+03j],\n",
       "        [-6.21345491e+03-2.98612487e+03j],\n",
       "        [-1.54806848e+04+8.97695831e+03j],\n",
       "        [-1.54806848e+04-8.97695831e+03j],\n",
       "        [ 1.14373275e+03-3.14236119e+02j],\n",
       "        [ 1.14373275e+03+3.14236119e+02j],\n",
       "        [ 2.47144263e+04+1.85625566e-11j]])"
      ]
     },
     "execution_count": 129,
     "metadata": {},
     "output_type": "execute_result"
    }
   ],
   "source": [
    "#initial condition\n",
    "b=np.linalg.pinv(phi).dot(x[:,0:1])"
   ]
  },
  {
   "cell_type": "code",
   "execution_count": 177,
   "id": "ccaf5a4b",
   "metadata": {},
   "outputs": [
    {
     "data": {
      "text/plain": [
       "(175, 1)"
      ]
     },
     "execution_count": 177,
     "metadata": {},
     "output_type": "execute_result"
    }
   ],
   "source": [
    "b.shape"
   ]
  },
  {
   "cell_type": "code",
   "execution_count": 51,
   "id": "cdae8c8c",
   "metadata": {},
   "outputs": [
    {
     "data": {
      "text/plain": [
       "(518400, 379)"
      ]
     },
     "execution_count": 51,
     "metadata": {},
     "output_type": "execute_result"
    }
   ],
   "source": [
    "org=phi.dot(time_dy)"
   ]
  },
  {
   "cell_type": "code",
   "execution_count": 273,
   "id": "e30d5a02",
   "metadata": {},
   "outputs": [
    {
     "data": {
      "text/html": [
       "<div>\n",
       "<style scoped>\n",
       "    .dataframe tbody tr th:only-of-type {\n",
       "        vertical-align: middle;\n",
       "    }\n",
       "\n",
       "    .dataframe tbody tr th {\n",
       "        vertical-align: top;\n",
       "    }\n",
       "\n",
       "    .dataframe thead th {\n",
       "        text-align: right;\n",
       "    }\n",
       "</style>\n",
       "<table border=\"1\" class=\"dataframe\">\n",
       "  <thead>\n",
       "    <tr style=\"text-align: right;\">\n",
       "      <th></th>\n",
       "      <th>0</th>\n",
       "      <th>1</th>\n",
       "      <th>2</th>\n",
       "      <th>3</th>\n",
       "      <th>4</th>\n",
       "      <th>5</th>\n",
       "      <th>6</th>\n",
       "      <th>7</th>\n",
       "      <th>8</th>\n",
       "      <th>9</th>\n",
       "      <th>...</th>\n",
       "      <th>160</th>\n",
       "      <th>161</th>\n",
       "      <th>162</th>\n",
       "      <th>163</th>\n",
       "      <th>164</th>\n",
       "      <th>165</th>\n",
       "      <th>166</th>\n",
       "      <th>167</th>\n",
       "      <th>168</th>\n",
       "      <th>169</th>\n",
       "    </tr>\n",
       "  </thead>\n",
       "  <tbody>\n",
       "    <tr>\n",
       "      <th>0</th>\n",
       "      <td>3.507234e+12</td>\n",
       "      <td>-5.606924e+07</td>\n",
       "      <td>2.697083e+06</td>\n",
       "      <td>5.903453e+07</td>\n",
       "      <td>1.269207e+07</td>\n",
       "      <td>-1.104408e+06</td>\n",
       "      <td>-4.323633e+07</td>\n",
       "      <td>-1.789688e+07</td>\n",
       "      <td>2.305771e+07</td>\n",
       "      <td>1.051682e+07</td>\n",
       "      <td>...</td>\n",
       "      <td>-5.084144e+05</td>\n",
       "      <td>180093.498626</td>\n",
       "      <td>53671.539228</td>\n",
       "      <td>36586.379550</td>\n",
       "      <td>200608.933985</td>\n",
       "      <td>-13705.161820</td>\n",
       "      <td>11406.144233</td>\n",
       "      <td>68940.121621</td>\n",
       "      <td>-19602.549868</td>\n",
       "      <td>-29286.515912</td>\n",
       "    </tr>\n",
       "    <tr>\n",
       "      <th>1</th>\n",
       "      <td>-2.070578e+09</td>\n",
       "      <td>4.437777e+10</td>\n",
       "      <td>2.247280e+08</td>\n",
       "      <td>-8.708863e+05</td>\n",
       "      <td>-1.072340e+08</td>\n",
       "      <td>2.772723e+05</td>\n",
       "      <td>3.939296e+07</td>\n",
       "      <td>2.117580e+07</td>\n",
       "      <td>1.886521e+07</td>\n",
       "      <td>-4.896329e+06</td>\n",
       "      <td>...</td>\n",
       "      <td>-9.618514e+04</td>\n",
       "      <td>190245.054874</td>\n",
       "      <td>43528.405662</td>\n",
       "      <td>-35540.437808</td>\n",
       "      <td>-373120.715808</td>\n",
       "      <td>427800.612555</td>\n",
       "      <td>5507.506444</td>\n",
       "      <td>-96878.702785</td>\n",
       "      <td>-34788.487508</td>\n",
       "      <td>19583.818556</td>\n",
       "    </tr>\n",
       "    <tr>\n",
       "      <th>2</th>\n",
       "      <td>-7.699932e+08</td>\n",
       "      <td>-2.835770e+08</td>\n",
       "      <td>9.584643e+09</td>\n",
       "      <td>2.295731e+08</td>\n",
       "      <td>2.710623e+07</td>\n",
       "      <td>7.859804e+07</td>\n",
       "      <td>-8.588260e+07</td>\n",
       "      <td>-1.641237e+07</td>\n",
       "      <td>2.631382e+07</td>\n",
       "      <td>-3.195380e+07</td>\n",
       "      <td>...</td>\n",
       "      <td>-1.336294e+05</td>\n",
       "      <td>705849.308572</td>\n",
       "      <td>111106.060594</td>\n",
       "      <td>156546.490387</td>\n",
       "      <td>267603.695485</td>\n",
       "      <td>-142268.271388</td>\n",
       "      <td>-218497.687986</td>\n",
       "      <td>73236.774089</td>\n",
       "      <td>183898.962363</td>\n",
       "      <td>346913.587685</td>\n",
       "    </tr>\n",
       "    <tr>\n",
       "      <th>3</th>\n",
       "      <td>-4.926001e+08</td>\n",
       "      <td>6.491745e+06</td>\n",
       "      <td>-2.596654e+08</td>\n",
       "      <td>5.187733e+09</td>\n",
       "      <td>-1.168320e+08</td>\n",
       "      <td>1.620663e+07</td>\n",
       "      <td>1.064203e+08</td>\n",
       "      <td>3.214022e+06</td>\n",
       "      <td>1.438131e+07</td>\n",
       "      <td>-1.533820e+08</td>\n",
       "      <td>...</td>\n",
       "      <td>1.581901e+06</td>\n",
       "      <td>187148.246742</td>\n",
       "      <td>-26859.402898</td>\n",
       "      <td>46880.261926</td>\n",
       "      <td>126388.017373</td>\n",
       "      <td>-248013.588418</td>\n",
       "      <td>-414419.027394</td>\n",
       "      <td>-312923.895890</td>\n",
       "      <td>45153.780052</td>\n",
       "      <td>141157.199447</td>\n",
       "    </tr>\n",
       "    <tr>\n",
       "      <th>4</th>\n",
       "      <td>-4.516596e+08</td>\n",
       "      <td>8.052615e+07</td>\n",
       "      <td>-5.872783e+07</td>\n",
       "      <td>1.158653e+08</td>\n",
       "      <td>4.955814e+09</td>\n",
       "      <td>-9.198810e+07</td>\n",
       "      <td>-5.498984e+07</td>\n",
       "      <td>-1.407357e+07</td>\n",
       "      <td>-4.539482e+07</td>\n",
       "      <td>1.544669e+07</td>\n",
       "      <td>...</td>\n",
       "      <td>-7.218833e+05</td>\n",
       "      <td>-414126.073576</td>\n",
       "      <td>-129795.414753</td>\n",
       "      <td>-52770.036231</td>\n",
       "      <td>24032.797081</td>\n",
       "      <td>-198475.112648</td>\n",
       "      <td>85760.341579</td>\n",
       "      <td>486110.469224</td>\n",
       "      <td>-120685.715893</td>\n",
       "      <td>-307203.313576</td>\n",
       "    </tr>\n",
       "    <tr>\n",
       "      <th>...</th>\n",
       "      <td>...</td>\n",
       "      <td>...</td>\n",
       "      <td>...</td>\n",
       "      <td>...</td>\n",
       "      <td>...</td>\n",
       "      <td>...</td>\n",
       "      <td>...</td>\n",
       "      <td>...</td>\n",
       "      <td>...</td>\n",
       "      <td>...</td>\n",
       "      <td>...</td>\n",
       "      <td>...</td>\n",
       "      <td>...</td>\n",
       "      <td>...</td>\n",
       "      <td>...</td>\n",
       "      <td>...</td>\n",
       "      <td>...</td>\n",
       "      <td>...</td>\n",
       "      <td>...</td>\n",
       "      <td>...</td>\n",
       "      <td>...</td>\n",
       "    </tr>\n",
       "    <tr>\n",
       "      <th>165</th>\n",
       "      <td>-2.775014e+06</td>\n",
       "      <td>6.592418e+05</td>\n",
       "      <td>1.857524e+05</td>\n",
       "      <td>-3.777832e+05</td>\n",
       "      <td>-1.342367e+05</td>\n",
       "      <td>1.358451e+04</td>\n",
       "      <td>3.912529e+05</td>\n",
       "      <td>6.948658e+05</td>\n",
       "      <td>-4.305623e+05</td>\n",
       "      <td>-4.251893e+05</td>\n",
       "      <td>...</td>\n",
       "      <td>-5.977045e+02</td>\n",
       "      <td>-215.159827</td>\n",
       "      <td>-1527.264169</td>\n",
       "      <td>-784.250440</td>\n",
       "      <td>-3280.293229</td>\n",
       "      <td>-26702.066823</td>\n",
       "      <td>621.648207</td>\n",
       "      <td>-1043.121926</td>\n",
       "      <td>-645.211708</td>\n",
       "      <td>213.258267</td>\n",
       "    </tr>\n",
       "    <tr>\n",
       "      <th>166</th>\n",
       "      <td>2.951652e+06</td>\n",
       "      <td>-3.207594e+05</td>\n",
       "      <td>1.560885e+03</td>\n",
       "      <td>-1.485016e+05</td>\n",
       "      <td>9.922318e+04</td>\n",
       "      <td>-5.327927e+04</td>\n",
       "      <td>-1.102227e+05</td>\n",
       "      <td>2.362298e+05</td>\n",
       "      <td>-1.140789e+05</td>\n",
       "      <td>1.444719e+04</td>\n",
       "      <td>...</td>\n",
       "      <td>1.748852e+03</td>\n",
       "      <td>1825.983719</td>\n",
       "      <td>1303.369535</td>\n",
       "      <td>364.154223</td>\n",
       "      <td>953.865571</td>\n",
       "      <td>-616.854347</td>\n",
       "      <td>-21239.186780</td>\n",
       "      <td>1514.182981</td>\n",
       "      <td>65.217178</td>\n",
       "      <td>-562.257464</td>\n",
       "    </tr>\n",
       "    <tr>\n",
       "      <th>167</th>\n",
       "      <td>3.161817e+06</td>\n",
       "      <td>-3.927474e+05</td>\n",
       "      <td>-2.909879e+04</td>\n",
       "      <td>-1.644371e+05</td>\n",
       "      <td>3.145771e+05</td>\n",
       "      <td>-1.220778e+05</td>\n",
       "      <td>-3.267531e+05</td>\n",
       "      <td>4.748419e+05</td>\n",
       "      <td>-2.066308e+05</td>\n",
       "      <td>-2.704893e+05</td>\n",
       "      <td>...</td>\n",
       "      <td>1.063689e+03</td>\n",
       "      <td>-3362.175779</td>\n",
       "      <td>1030.576820</td>\n",
       "      <td>669.008070</td>\n",
       "      <td>106.894194</td>\n",
       "      <td>-320.304054</td>\n",
       "      <td>1777.176448</td>\n",
       "      <td>-16445.919557</td>\n",
       "      <td>255.474231</td>\n",
       "      <td>286.885248</td>\n",
       "    </tr>\n",
       "    <tr>\n",
       "      <th>168</th>\n",
       "      <td>-1.438478e+06</td>\n",
       "      <td>1.698739e+05</td>\n",
       "      <td>8.528083e+04</td>\n",
       "      <td>9.229775e+04</td>\n",
       "      <td>4.620078e+01</td>\n",
       "      <td>3.746144e+04</td>\n",
       "      <td>-8.549675e+04</td>\n",
       "      <td>-3.443798e+04</td>\n",
       "      <td>3.293967e+04</td>\n",
       "      <td>-7.496843e+04</td>\n",
       "      <td>...</td>\n",
       "      <td>-1.920139e+03</td>\n",
       "      <td>-2025.547223</td>\n",
       "      <td>2745.406264</td>\n",
       "      <td>255.916319</td>\n",
       "      <td>585.753084</td>\n",
       "      <td>-401.296785</td>\n",
       "      <td>110.444347</td>\n",
       "      <td>1697.527170</td>\n",
       "      <td>-25406.537832</td>\n",
       "      <td>1916.557672</td>\n",
       "    </tr>\n",
       "    <tr>\n",
       "      <th>169</th>\n",
       "      <td>-1.184128e+06</td>\n",
       "      <td>1.259382e+05</td>\n",
       "      <td>2.044979e+05</td>\n",
       "      <td>1.706021e+05</td>\n",
       "      <td>-1.259793e+05</td>\n",
       "      <td>2.432803e+05</td>\n",
       "      <td>-1.833343e+05</td>\n",
       "      <td>-1.199960e+05</td>\n",
       "      <td>-2.842456e+04</td>\n",
       "      <td>2.339915e+04</td>\n",
       "      <td>...</td>\n",
       "      <td>7.490491e+02</td>\n",
       "      <td>-4311.812680</td>\n",
       "      <td>908.952216</td>\n",
       "      <td>1396.152776</td>\n",
       "      <td>-167.149076</td>\n",
       "      <td>181.731804</td>\n",
       "      <td>608.143926</td>\n",
       "      <td>-15.532592</td>\n",
       "      <td>2056.597338</td>\n",
       "      <td>-16905.654135</td>\n",
       "    </tr>\n",
       "  </tbody>\n",
       "</table>\n",
       "<p>170 rows × 170 columns</p>\n",
       "</div>"
      ],
      "text/plain": [
       "              0             1             2             3             4    \\\n",
       "0    3.507234e+12 -5.606924e+07  2.697083e+06  5.903453e+07  1.269207e+07   \n",
       "1   -2.070578e+09  4.437777e+10  2.247280e+08 -8.708863e+05 -1.072340e+08   \n",
       "2   -7.699932e+08 -2.835770e+08  9.584643e+09  2.295731e+08  2.710623e+07   \n",
       "3   -4.926001e+08  6.491745e+06 -2.596654e+08  5.187733e+09 -1.168320e+08   \n",
       "4   -4.516596e+08  8.052615e+07 -5.872783e+07  1.158653e+08  4.955814e+09   \n",
       "..            ...           ...           ...           ...           ...   \n",
       "165 -2.775014e+06  6.592418e+05  1.857524e+05 -3.777832e+05 -1.342367e+05   \n",
       "166  2.951652e+06 -3.207594e+05  1.560885e+03 -1.485016e+05  9.922318e+04   \n",
       "167  3.161817e+06 -3.927474e+05 -2.909879e+04 -1.644371e+05  3.145771e+05   \n",
       "168 -1.438478e+06  1.698739e+05  8.528083e+04  9.229775e+04  4.620078e+01   \n",
       "169 -1.184128e+06  1.259382e+05  2.044979e+05  1.706021e+05 -1.259793e+05   \n",
       "\n",
       "              5             6             7             8             9    \\\n",
       "0   -1.104408e+06 -4.323633e+07 -1.789688e+07  2.305771e+07  1.051682e+07   \n",
       "1    2.772723e+05  3.939296e+07  2.117580e+07  1.886521e+07 -4.896329e+06   \n",
       "2    7.859804e+07 -8.588260e+07 -1.641237e+07  2.631382e+07 -3.195380e+07   \n",
       "3    1.620663e+07  1.064203e+08  3.214022e+06  1.438131e+07 -1.533820e+08   \n",
       "4   -9.198810e+07 -5.498984e+07 -1.407357e+07 -4.539482e+07  1.544669e+07   \n",
       "..            ...           ...           ...           ...           ...   \n",
       "165  1.358451e+04  3.912529e+05  6.948658e+05 -4.305623e+05 -4.251893e+05   \n",
       "166 -5.327927e+04 -1.102227e+05  2.362298e+05 -1.140789e+05  1.444719e+04   \n",
       "167 -1.220778e+05 -3.267531e+05  4.748419e+05 -2.066308e+05 -2.704893e+05   \n",
       "168  3.746144e+04 -8.549675e+04 -3.443798e+04  3.293967e+04 -7.496843e+04   \n",
       "169  2.432803e+05 -1.833343e+05 -1.199960e+05 -2.842456e+04  2.339915e+04   \n",
       "\n",
       "     ...           160            161            162            163  \\\n",
       "0    ... -5.084144e+05  180093.498626   53671.539228   36586.379550   \n",
       "1    ... -9.618514e+04  190245.054874   43528.405662  -35540.437808   \n",
       "2    ... -1.336294e+05  705849.308572  111106.060594  156546.490387   \n",
       "3    ...  1.581901e+06  187148.246742  -26859.402898   46880.261926   \n",
       "4    ... -7.218833e+05 -414126.073576 -129795.414753  -52770.036231   \n",
       "..   ...           ...            ...            ...            ...   \n",
       "165  ... -5.977045e+02    -215.159827   -1527.264169    -784.250440   \n",
       "166  ...  1.748852e+03    1825.983719    1303.369535     364.154223   \n",
       "167  ...  1.063689e+03   -3362.175779    1030.576820     669.008070   \n",
       "168  ... -1.920139e+03   -2025.547223    2745.406264     255.916319   \n",
       "169  ...  7.490491e+02   -4311.812680     908.952216    1396.152776   \n",
       "\n",
       "               164            165            166            167  \\\n",
       "0    200608.933985  -13705.161820   11406.144233   68940.121621   \n",
       "1   -373120.715808  427800.612555    5507.506444  -96878.702785   \n",
       "2    267603.695485 -142268.271388 -218497.687986   73236.774089   \n",
       "3    126388.017373 -248013.588418 -414419.027394 -312923.895890   \n",
       "4     24032.797081 -198475.112648   85760.341579  486110.469224   \n",
       "..             ...            ...            ...            ...   \n",
       "165   -3280.293229  -26702.066823     621.648207   -1043.121926   \n",
       "166     953.865571    -616.854347  -21239.186780    1514.182981   \n",
       "167     106.894194    -320.304054    1777.176448  -16445.919557   \n",
       "168     585.753084    -401.296785     110.444347    1697.527170   \n",
       "169    -167.149076     181.731804     608.143926     -15.532592   \n",
       "\n",
       "               168            169  \n",
       "0    -19602.549868  -29286.515912  \n",
       "1    -34788.487508   19583.818556  \n",
       "2    183898.962363  346913.587685  \n",
       "3     45153.780052  141157.199447  \n",
       "4   -120685.715893 -307203.313576  \n",
       "..             ...            ...  \n",
       "165    -645.211708     213.258267  \n",
       "166      65.217178    -562.257464  \n",
       "167     255.474231     286.885248  \n",
       "168  -25406.537832    1916.557672  \n",
       "169    2056.597338  -16905.654135  \n",
       "\n",
       "[170 rows x 170 columns]"
      ]
     },
     "execution_count": 273,
     "metadata": {},
     "output_type": "execute_result"
    }
   ],
   "source": [
    "df =pd.DataFrame(A[:,0:378])\n",
    "df[0:]"
   ]
  }
 ],
 "metadata": {
  "kernelspec": {
   "display_name": "Python 3 (ipykernel)",
   "language": "python",
   "name": "python3"
  },
  "language_info": {
   "codemirror_mode": {
    "name": "ipython",
    "version": 3
   },
   "file_extension": ".py",
   "mimetype": "text/x-python",
   "name": "python",
   "nbconvert_exporter": "python",
   "pygments_lexer": "ipython3",
   "version": "3.9.13"
  }
 },
 "nbformat": 4,
 "nbformat_minor": 5
}
